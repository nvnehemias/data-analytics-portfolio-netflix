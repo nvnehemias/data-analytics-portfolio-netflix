import pandas as pd


df = pd.read_csv('../data/raw/netflix1.csv')


df.head()


df.info()


df.isnull()


df.groupby('type').count()


df.groupby('country').count().reset_index().sort_values(by = 'show_id', ascending = False)


df.head()
