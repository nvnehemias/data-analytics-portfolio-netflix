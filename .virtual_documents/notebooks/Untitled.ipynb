import pandas as pd


df = pd.read_csv('../data/raw/netflix1.csv')


df.head()


df.info()


df.isnull()


df.groupby('type').count()


df.groupby('country').count().reset_index().sort_values(by = 'show_id', ascending = False)


df['date_added'] = pd.to_datetime(df['date_added'], infer_datetime_format=True)


df.shape


df = df.dropna(subset=['title'])


df['director'] = df['director'].fillna("Unknown")


df.head()


df.head()


import pandas as pd

df['date_col_converted'] = pd.to_datetime(df['date_col'], infer_datetime_format=True)
print(df)

